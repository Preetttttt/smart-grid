{
  "nbformat": 4,
  "nbformat_minor": 0,
  "metadata": {
    "colab": {
      "provenance": [],
      "gpuType": "T4"
    },
    "kernelspec": {
      "name": "python3",
      "display_name": "Python 3"
    },
    "language_info": {
      "name": "python"
    },
    "accelerator": "GPU"
  },
  "cells": [
    {
      "cell_type": "code",
      "execution_count": null,
      "metadata": {
        "id": "b8j4xSvIZ9MO"
      },
      "outputs": [],
      "source": [
        "import pandas as pd\n",
        "import numpy as np\n",
        "import matplotlib.pyplot as plt\n",
        "import seaborn as sns\n",
        "\n",
        "from sklearn.model_selection import train_test_split\n",
        "from sklearn.preprocessing import MinMaxScaler\n",
        "from tensorflow.keras.models import Sequential\n",
        "from tensorflow.keras.layers import LSTM, Dense"
      ]
    },
    {
      "cell_type": "code",
      "source": [
        "# Load CSV file (no C:/ path in Colab)\n",
        "df = pd.read_csv('/content/smart_grid_dataset.csv')"
      ],
      "metadata": {
        "id": "HCpR84AhaSTT"
      },
      "execution_count": null,
      "outputs": []
    },
    {
      "cell_type": "code",
      "source": [
        "df = pd.read_csv('/content/smart_grid_dataset.csv')  # Load your file\n",
        "print(df.columns)  # This will show the actual column names"
      ],
      "metadata": {
        "colab": {
          "base_uri": "https://localhost:8080/"
        },
        "id": "_TUQvCxZatMU",
        "outputId": "a4e8ac14-f30d-455b-8348-c698056277a9"
      },
      "execution_count": null,
      "outputs": [
        {
          "output_type": "stream",
          "name": "stdout",
          "text": [
            "Index(['Timestamp', 'Voltage (V)', 'Current (A)', 'Power Consumption (kW)',\n",
            "       'Reactive Power (kVAR)', 'Power Factor', 'Solar Power (kW)',\n",
            "       'Wind Power (kW)', 'Grid Supply (kW)', 'Voltage Fluctuation (%)',\n",
            "       'Overload Condition', 'Transformer Fault', 'Temperature (°C)',\n",
            "       'Humidity (%)', 'Electricity Price (USD/kWh)', 'Predicted Load (kW)'],\n",
            "      dtype='object')\n"
          ]
        }
      ]
    },
    {
      "cell_type": "code",
      "source": [
        "df['Timestamp'] = pd.to_datetime(df['Timestamp'])"
      ],
      "metadata": {
        "id": "5YieYXFQa2iR"
      },
      "execution_count": null,
      "outputs": []
    },
    {
      "cell_type": "code",
      "source": [
        "df.set_index('Timestamp', inplace=True)"
      ],
      "metadata": {
        "id": "0-w4VrofcSuH"
      },
      "execution_count": null,
      "outputs": []
    },
    {
      "cell_type": "code",
      "source": [
        "df = df.fillna(method='ffill')"
      ],
      "metadata": {
        "colab": {
          "base_uri": "https://localhost:8080/"
        },
        "id": "eC6ap0OFcVqG",
        "outputId": "0304074a-2a48-4685-fd34-b9f48b198786"
      },
      "execution_count": null,
      "outputs": [
        {
          "output_type": "stream",
          "name": "stderr",
          "text": [
            "/tmp/ipython-input-9-569672361.py:1: FutureWarning: DataFrame.fillna with 'method' is deprecated and will raise in a future version. Use obj.ffill() or obj.bfill() instead.\n",
            "  df = df.fillna(method='ffill')\n"
          ]
        }
      ]
    },
    {
      "cell_type": "code",
      "source": [
        "df['hour'] = df.index.hour\n",
        "df['dayofweek'] = df.index.dayofweek"
      ],
      "metadata": {
        "id": "eB6Ut9y0cYTz"
      },
      "execution_count": null,
      "outputs": []
    },
    {
      "cell_type": "code",
      "source": [
        "df.head()"
      ],
      "metadata": {
        "colab": {
          "base_uri": "https://localhost:8080/",
          "height": 465
        },
        "id": "gh_k225Gcbg0",
        "outputId": "a7e056f4-1dd6-4602-f4c2-98a6d384953c"
      },
      "execution_count": null,
      "outputs": [
        {
          "output_type": "execute_result",
          "data": {
            "text/plain": [
              "                     Voltage (V)  Current (A)  Power Consumption (kW)  \\\n",
              "Timestamp                                                               \n",
              "2024-01-01 00:00:00   232.483571     5.124673                1.191402   \n",
              "2024-01-01 00:15:00   229.308678    22.213519                5.093753   \n",
              "2024-01-01 00:30:00   233.238443    46.132217               10.759806   \n",
              "2024-01-01 00:45:00   237.615149    47.648972               11.322118   \n",
              "2024-01-01 01:00:00   228.829233     7.410166                1.695663   \n",
              "\n",
              "                     Reactive Power (kVAR)  Power Factor  Solar Power (kW)  \\\n",
              "Timestamp                                                                    \n",
              "2024-01-01 00:00:00               0.399029      0.907766         46.614845   \n",
              "2024-01-01 00:15:00               1.248030      0.831813          6.907170   \n",
              "2024-01-01 00:30:00               2.790464      0.999005         15.477640   \n",
              "2024-01-01 00:45:00               1.956965      0.896462         35.746398   \n",
              "2024-01-01 01:00:00               0.624718      0.870681         27.555038   \n",
              "\n",
              "                     Wind Power (kW)  Grid Supply (kW)  \\\n",
              "Timestamp                                                \n",
              "2024-01-01 00:00:00        26.399566               0.0   \n",
              "2024-01-01 00:15:00        18.555011               0.0   \n",
              "2024-01-01 00:30:00        12.905025               0.0   \n",
              "2024-01-01 00:45:00        28.937129               0.0   \n",
              "2024-01-01 01:00:00        14.184648               0.0   \n",
              "\n",
              "                     Voltage Fluctuation (%)  Overload Condition  \\\n",
              "Timestamp                                                          \n",
              "2024-01-01 00:00:00                 1.055937                   0   \n",
              "2024-01-01 00:15:00                -3.910902                   1   \n",
              "2024-01-01 00:30:00                -0.197551                   0   \n",
              "2024-01-01 00:45:00                 2.671921                   0   \n",
              "2024-01-01 01:00:00                 3.826937                   0   \n",
              "\n",
              "                     Transformer Fault  Temperature (°C)  Humidity (%)  \\\n",
              "Timestamp                                                                \n",
              "2024-01-01 00:00:00                  0         17.842767     64.523353   \n",
              "2024-01-01 00:15:00                  0         18.753698     49.671940   \n",
              "2024-01-01 00:30:00                  0         16.719325     48.472769   \n",
              "2024-01-01 00:45:00                  0         15.364564     75.766776   \n",
              "2024-01-01 01:00:00                  0         38.760333     61.384213   \n",
              "\n",
              "                     Electricity Price (USD/kWh)  Predicted Load (kW)  hour  \\\n",
              "Timestamp                                                                     \n",
              "2024-01-01 00:00:00                     0.416156             1.233158     0   \n",
              "2024-01-01 00:15:00                     0.492334             5.247824     0   \n",
              "2024-01-01 00:30:00                     0.427785            10.580278     0   \n",
              "2024-01-01 00:45:00                     0.487953            11.225946     0   \n",
              "2024-01-01 01:00:00                     0.290078             1.696639     1   \n",
              "\n",
              "                     dayofweek  \n",
              "Timestamp                       \n",
              "2024-01-01 00:00:00          0  \n",
              "2024-01-01 00:15:00          0  \n",
              "2024-01-01 00:30:00          0  \n",
              "2024-01-01 00:45:00          0  \n",
              "2024-01-01 01:00:00          0  "
            ],
            "text/html": [
              "\n",
              "  <div id=\"df-3d1ac237-d451-49a6-91f1-60bacd495eea\" class=\"colab-df-container\">\n",
              "    <div>\n",
              "<style scoped>\n",
              "    .dataframe tbody tr th:only-of-type {\n",
              "        vertical-align: middle;\n",
              "    }\n",
              "\n",
              "    .dataframe tbody tr th {\n",
              "        vertical-align: top;\n",
              "    }\n",
              "\n",
              "    .dataframe thead th {\n",
              "        text-align: right;\n",
              "    }\n",
              "</style>\n",
              "<table border=\"1\" class=\"dataframe\">\n",
              "  <thead>\n",
              "    <tr style=\"text-align: right;\">\n",
              "      <th></th>\n",
              "      <th>Voltage (V)</th>\n",
              "      <th>Current (A)</th>\n",
              "      <th>Power Consumption (kW)</th>\n",
              "      <th>Reactive Power (kVAR)</th>\n",
              "      <th>Power Factor</th>\n",
              "      <th>Solar Power (kW)</th>\n",
              "      <th>Wind Power (kW)</th>\n",
              "      <th>Grid Supply (kW)</th>\n",
              "      <th>Voltage Fluctuation (%)</th>\n",
              "      <th>Overload Condition</th>\n",
              "      <th>Transformer Fault</th>\n",
              "      <th>Temperature (°C)</th>\n",
              "      <th>Humidity (%)</th>\n",
              "      <th>Electricity Price (USD/kWh)</th>\n",
              "      <th>Predicted Load (kW)</th>\n",
              "      <th>hour</th>\n",
              "      <th>dayofweek</th>\n",
              "    </tr>\n",
              "    <tr>\n",
              "      <th>Timestamp</th>\n",
              "      <th></th>\n",
              "      <th></th>\n",
              "      <th></th>\n",
              "      <th></th>\n",
              "      <th></th>\n",
              "      <th></th>\n",
              "      <th></th>\n",
              "      <th></th>\n",
              "      <th></th>\n",
              "      <th></th>\n",
              "      <th></th>\n",
              "      <th></th>\n",
              "      <th></th>\n",
              "      <th></th>\n",
              "      <th></th>\n",
              "      <th></th>\n",
              "      <th></th>\n",
              "    </tr>\n",
              "  </thead>\n",
              "  <tbody>\n",
              "    <tr>\n",
              "      <th>2024-01-01 00:00:00</th>\n",
              "      <td>232.483571</td>\n",
              "      <td>5.124673</td>\n",
              "      <td>1.191402</td>\n",
              "      <td>0.399029</td>\n",
              "      <td>0.907766</td>\n",
              "      <td>46.614845</td>\n",
              "      <td>26.399566</td>\n",
              "      <td>0.0</td>\n",
              "      <td>1.055937</td>\n",
              "      <td>0</td>\n",
              "      <td>0</td>\n",
              "      <td>17.842767</td>\n",
              "      <td>64.523353</td>\n",
              "      <td>0.416156</td>\n",
              "      <td>1.233158</td>\n",
              "      <td>0</td>\n",
              "      <td>0</td>\n",
              "    </tr>\n",
              "    <tr>\n",
              "      <th>2024-01-01 00:15:00</th>\n",
              "      <td>229.308678</td>\n",
              "      <td>22.213519</td>\n",
              "      <td>5.093753</td>\n",
              "      <td>1.248030</td>\n",
              "      <td>0.831813</td>\n",
              "      <td>6.907170</td>\n",
              "      <td>18.555011</td>\n",
              "      <td>0.0</td>\n",
              "      <td>-3.910902</td>\n",
              "      <td>1</td>\n",
              "      <td>0</td>\n",
              "      <td>18.753698</td>\n",
              "      <td>49.671940</td>\n",
              "      <td>0.492334</td>\n",
              "      <td>5.247824</td>\n",
              "      <td>0</td>\n",
              "      <td>0</td>\n",
              "    </tr>\n",
              "    <tr>\n",
              "      <th>2024-01-01 00:30:00</th>\n",
              "      <td>233.238443</td>\n",
              "      <td>46.132217</td>\n",
              "      <td>10.759806</td>\n",
              "      <td>2.790464</td>\n",
              "      <td>0.999005</td>\n",
              "      <td>15.477640</td>\n",
              "      <td>12.905025</td>\n",
              "      <td>0.0</td>\n",
              "      <td>-0.197551</td>\n",
              "      <td>0</td>\n",
              "      <td>0</td>\n",
              "      <td>16.719325</td>\n",
              "      <td>48.472769</td>\n",
              "      <td>0.427785</td>\n",
              "      <td>10.580278</td>\n",
              "      <td>0</td>\n",
              "      <td>0</td>\n",
              "    </tr>\n",
              "    <tr>\n",
              "      <th>2024-01-01 00:45:00</th>\n",
              "      <td>237.615149</td>\n",
              "      <td>47.648972</td>\n",
              "      <td>11.322118</td>\n",
              "      <td>1.956965</td>\n",
              "      <td>0.896462</td>\n",
              "      <td>35.746398</td>\n",
              "      <td>28.937129</td>\n",
              "      <td>0.0</td>\n",
              "      <td>2.671921</td>\n",
              "      <td>0</td>\n",
              "      <td>0</td>\n",
              "      <td>15.364564</td>\n",
              "      <td>75.766776</td>\n",
              "      <td>0.487953</td>\n",
              "      <td>11.225946</td>\n",
              "      <td>0</td>\n",
              "      <td>0</td>\n",
              "    </tr>\n",
              "    <tr>\n",
              "      <th>2024-01-01 01:00:00</th>\n",
              "      <td>228.829233</td>\n",
              "      <td>7.410166</td>\n",
              "      <td>1.695663</td>\n",
              "      <td>0.624718</td>\n",
              "      <td>0.870681</td>\n",
              "      <td>27.555038</td>\n",
              "      <td>14.184648</td>\n",
              "      <td>0.0</td>\n",
              "      <td>3.826937</td>\n",
              "      <td>0</td>\n",
              "      <td>0</td>\n",
              "      <td>38.760333</td>\n",
              "      <td>61.384213</td>\n",
              "      <td>0.290078</td>\n",
              "      <td>1.696639</td>\n",
              "      <td>1</td>\n",
              "      <td>0</td>\n",
              "    </tr>\n",
              "  </tbody>\n",
              "</table>\n",
              "</div>\n",
              "    <div class=\"colab-df-buttons\">\n",
              "\n",
              "  <div class=\"colab-df-container\">\n",
              "    <button class=\"colab-df-convert\" onclick=\"convertToInteractive('df-3d1ac237-d451-49a6-91f1-60bacd495eea')\"\n",
              "            title=\"Convert this dataframe to an interactive table.\"\n",
              "            style=\"display:none;\">\n",
              "\n",
              "  <svg xmlns=\"http://www.w3.org/2000/svg\" height=\"24px\" viewBox=\"0 -960 960 960\">\n",
              "    <path d=\"M120-120v-720h720v720H120Zm60-500h600v-160H180v160Zm220 220h160v-160H400v160Zm0 220h160v-160H400v160ZM180-400h160v-160H180v160Zm440 0h160v-160H620v160ZM180-180h160v-160H180v160Zm440 0h160v-160H620v160Z\"/>\n",
              "  </svg>\n",
              "    </button>\n",
              "\n",
              "  <style>\n",
              "    .colab-df-container {\n",
              "      display:flex;\n",
              "      gap: 12px;\n",
              "    }\n",
              "\n",
              "    .colab-df-convert {\n",
              "      background-color: #E8F0FE;\n",
              "      border: none;\n",
              "      border-radius: 50%;\n",
              "      cursor: pointer;\n",
              "      display: none;\n",
              "      fill: #1967D2;\n",
              "      height: 32px;\n",
              "      padding: 0 0 0 0;\n",
              "      width: 32px;\n",
              "    }\n",
              "\n",
              "    .colab-df-convert:hover {\n",
              "      background-color: #E2EBFA;\n",
              "      box-shadow: 0px 1px 2px rgba(60, 64, 67, 0.3), 0px 1px 3px 1px rgba(60, 64, 67, 0.15);\n",
              "      fill: #174EA6;\n",
              "    }\n",
              "\n",
              "    .colab-df-buttons div {\n",
              "      margin-bottom: 4px;\n",
              "    }\n",
              "\n",
              "    [theme=dark] .colab-df-convert {\n",
              "      background-color: #3B4455;\n",
              "      fill: #D2E3FC;\n",
              "    }\n",
              "\n",
              "    [theme=dark] .colab-df-convert:hover {\n",
              "      background-color: #434B5C;\n",
              "      box-shadow: 0px 1px 3px 1px rgba(0, 0, 0, 0.15);\n",
              "      filter: drop-shadow(0px 1px 2px rgba(0, 0, 0, 0.3));\n",
              "      fill: #FFFFFF;\n",
              "    }\n",
              "  </style>\n",
              "\n",
              "    <script>\n",
              "      const buttonEl =\n",
              "        document.querySelector('#df-3d1ac237-d451-49a6-91f1-60bacd495eea button.colab-df-convert');\n",
              "      buttonEl.style.display =\n",
              "        google.colab.kernel.accessAllowed ? 'block' : 'none';\n",
              "\n",
              "      async function convertToInteractive(key) {\n",
              "        const element = document.querySelector('#df-3d1ac237-d451-49a6-91f1-60bacd495eea');\n",
              "        const dataTable =\n",
              "          await google.colab.kernel.invokeFunction('convertToInteractive',\n",
              "                                                    [key], {});\n",
              "        if (!dataTable) return;\n",
              "\n",
              "        const docLinkHtml = 'Like what you see? Visit the ' +\n",
              "          '<a target=\"_blank\" href=https://colab.research.google.com/notebooks/data_table.ipynb>data table notebook</a>'\n",
              "          + ' to learn more about interactive tables.';\n",
              "        element.innerHTML = '';\n",
              "        dataTable['output_type'] = 'display_data';\n",
              "        await google.colab.output.renderOutput(dataTable, element);\n",
              "        const docLink = document.createElement('div');\n",
              "        docLink.innerHTML = docLinkHtml;\n",
              "        element.appendChild(docLink);\n",
              "      }\n",
              "    </script>\n",
              "  </div>\n",
              "\n",
              "\n",
              "    <div id=\"df-50edfef9-8e0b-401c-98f9-3e48a1d0d4b4\">\n",
              "      <button class=\"colab-df-quickchart\" onclick=\"quickchart('df-50edfef9-8e0b-401c-98f9-3e48a1d0d4b4')\"\n",
              "                title=\"Suggest charts\"\n",
              "                style=\"display:none;\">\n",
              "\n",
              "<svg xmlns=\"http://www.w3.org/2000/svg\" height=\"24px\"viewBox=\"0 0 24 24\"\n",
              "     width=\"24px\">\n",
              "    <g>\n",
              "        <path d=\"M19 3H5c-1.1 0-2 .9-2 2v14c0 1.1.9 2 2 2h14c1.1 0 2-.9 2-2V5c0-1.1-.9-2-2-2zM9 17H7v-7h2v7zm4 0h-2V7h2v10zm4 0h-2v-4h2v4z\"/>\n",
              "    </g>\n",
              "</svg>\n",
              "      </button>\n",
              "\n",
              "<style>\n",
              "  .colab-df-quickchart {\n",
              "      --bg-color: #E8F0FE;\n",
              "      --fill-color: #1967D2;\n",
              "      --hover-bg-color: #E2EBFA;\n",
              "      --hover-fill-color: #174EA6;\n",
              "      --disabled-fill-color: #AAA;\n",
              "      --disabled-bg-color: #DDD;\n",
              "  }\n",
              "\n",
              "  [theme=dark] .colab-df-quickchart {\n",
              "      --bg-color: #3B4455;\n",
              "      --fill-color: #D2E3FC;\n",
              "      --hover-bg-color: #434B5C;\n",
              "      --hover-fill-color: #FFFFFF;\n",
              "      --disabled-bg-color: #3B4455;\n",
              "      --disabled-fill-color: #666;\n",
              "  }\n",
              "\n",
              "  .colab-df-quickchart {\n",
              "    background-color: var(--bg-color);\n",
              "    border: none;\n",
              "    border-radius: 50%;\n",
              "    cursor: pointer;\n",
              "    display: none;\n",
              "    fill: var(--fill-color);\n",
              "    height: 32px;\n",
              "    padding: 0;\n",
              "    width: 32px;\n",
              "  }\n",
              "\n",
              "  .colab-df-quickchart:hover {\n",
              "    background-color: var(--hover-bg-color);\n",
              "    box-shadow: 0 1px 2px rgba(60, 64, 67, 0.3), 0 1px 3px 1px rgba(60, 64, 67, 0.15);\n",
              "    fill: var(--button-hover-fill-color);\n",
              "  }\n",
              "\n",
              "  .colab-df-quickchart-complete:disabled,\n",
              "  .colab-df-quickchart-complete:disabled:hover {\n",
              "    background-color: var(--disabled-bg-color);\n",
              "    fill: var(--disabled-fill-color);\n",
              "    box-shadow: none;\n",
              "  }\n",
              "\n",
              "  .colab-df-spinner {\n",
              "    border: 2px solid var(--fill-color);\n",
              "    border-color: transparent;\n",
              "    border-bottom-color: var(--fill-color);\n",
              "    animation:\n",
              "      spin 1s steps(1) infinite;\n",
              "  }\n",
              "\n",
              "  @keyframes spin {\n",
              "    0% {\n",
              "      border-color: transparent;\n",
              "      border-bottom-color: var(--fill-color);\n",
              "      border-left-color: var(--fill-color);\n",
              "    }\n",
              "    20% {\n",
              "      border-color: transparent;\n",
              "      border-left-color: var(--fill-color);\n",
              "      border-top-color: var(--fill-color);\n",
              "    }\n",
              "    30% {\n",
              "      border-color: transparent;\n",
              "      border-left-color: var(--fill-color);\n",
              "      border-top-color: var(--fill-color);\n",
              "      border-right-color: var(--fill-color);\n",
              "    }\n",
              "    40% {\n",
              "      border-color: transparent;\n",
              "      border-right-color: var(--fill-color);\n",
              "      border-top-color: var(--fill-color);\n",
              "    }\n",
              "    60% {\n",
              "      border-color: transparent;\n",
              "      border-right-color: var(--fill-color);\n",
              "    }\n",
              "    80% {\n",
              "      border-color: transparent;\n",
              "      border-right-color: var(--fill-color);\n",
              "      border-bottom-color: var(--fill-color);\n",
              "    }\n",
              "    90% {\n",
              "      border-color: transparent;\n",
              "      border-bottom-color: var(--fill-color);\n",
              "    }\n",
              "  }\n",
              "</style>\n",
              "\n",
              "      <script>\n",
              "        async function quickchart(key) {\n",
              "          const quickchartButtonEl =\n",
              "            document.querySelector('#' + key + ' button');\n",
              "          quickchartButtonEl.disabled = true;  // To prevent multiple clicks.\n",
              "          quickchartButtonEl.classList.add('colab-df-spinner');\n",
              "          try {\n",
              "            const charts = await google.colab.kernel.invokeFunction(\n",
              "                'suggestCharts', [key], {});\n",
              "          } catch (error) {\n",
              "            console.error('Error during call to suggestCharts:', error);\n",
              "          }\n",
              "          quickchartButtonEl.classList.remove('colab-df-spinner');\n",
              "          quickchartButtonEl.classList.add('colab-df-quickchart-complete');\n",
              "        }\n",
              "        (() => {\n",
              "          let quickchartButtonEl =\n",
              "            document.querySelector('#df-50edfef9-8e0b-401c-98f9-3e48a1d0d4b4 button');\n",
              "          quickchartButtonEl.style.display =\n",
              "            google.colab.kernel.accessAllowed ? 'block' : 'none';\n",
              "        })();\n",
              "      </script>\n",
              "    </div>\n",
              "\n",
              "    </div>\n",
              "  </div>\n"
            ],
            "application/vnd.google.colaboratory.intrinsic+json": {
              "type": "dataframe",
              "variable_name": "df",
              "summary": "{\n  \"name\": \"df\",\n  \"rows\": 50000,\n  \"fields\": [\n    {\n      \"column\": \"Timestamp\",\n      \"properties\": {\n        \"dtype\": \"date\",\n        \"min\": \"2024-01-01 00:00:00\",\n        \"max\": \"2025-06-04 19:45:00\",\n        \"num_unique_values\": 50000,\n        \"samples\": [\n          \"2024-12-15 12:15:00\",\n          \"2024-04-08 04:45:00\",\n          \"2024-01-03 01:45:00\"\n        ],\n        \"semantic_type\": \"\",\n        \"description\": \"\"\n      }\n    },\n    {\n      \"column\": \"Voltage (V)\",\n      \"properties\": {\n        \"dtype\": \"number\",\n        \"std\": 5.000849340756763,\n        \"min\": 207.6719806823556,\n        \"max\": 252.3954212551288,\n        \"num_unique_values\": 50000,\n        \"samples\": [\n          228.004175644926,\n          226.93788554549565,\n          224.28514851084688\n        ],\n        \"semantic_type\": \"\",\n        \"description\": \"\"\n      }\n    },\n    {\n      \"column\": \"Current (A)\",\n      \"properties\": {\n        \"dtype\": \"number\",\n        \"std\": 12.984307048135916,\n        \"min\": 5.001238845994779,\n        \"max\": 49.99964190363347,\n        \"num_unique_values\": 50000,\n        \"samples\": [\n          42.74071671055189,\n          32.083549778168305,\n          15.760969033514428\n        ],\n        \"semantic_type\": \"\",\n        \"description\": \"\"\n      }\n    },\n    {\n      \"column\": \"Power Consumption (kW)\",\n      \"properties\": {\n        \"dtype\": \"number\",\n        \"std\": 2.990095819025214,\n        \"min\": 1.0891776167784215,\n        \"max\": 12.103199277549075,\n        \"num_unique_values\": 50000,\n        \"samples\": [\n          9.745061880062698,\n          7.28097294745117,\n          3.5349512803566423\n        ],\n        \"semantic_type\": \"\",\n        \"description\": \"\"\n      }\n    },\n    {\n      \"column\": \"Reactive Power (kVAR)\",\n      \"properties\": {\n        \"dtype\": \"number\",\n        \"std\": 0.9648760435351065,\n        \"min\": 0.1136653188609056,\n        \"max\": 4.684119129531462,\n        \"num_unique_values\": 50000,\n        \"samples\": [\n          2.9488165242794824,\n          1.7713313975196736,\n          0.6935428952427712\n        ],\n        \"semantic_type\": \"\",\n        \"description\": \"\"\n      }\n    },\n    {\n      \"column\": \"Power Factor\",\n      \"properties\": {\n        \"dtype\": \"number\",\n        \"std\": 0.05774014627578148,\n        \"min\": 0.8000009557218327,\n        \"max\": 0.9999965969465038,\n        \"num_unique_values\": 50000,\n        \"samples\": [\n          0.9352446939404004,\n          0.8469659297497671,\n          0.9863971357357474\n        ],\n        \"semantic_type\": \"\",\n        \"description\": \"\"\n      }\n    },\n    {\n      \"column\": \"Solar Power (kW)\",\n      \"properties\": {\n        \"dtype\": \"number\",\n        \"std\": 14.434643896644744,\n        \"min\": 0.0001149091309049,\n        \"max\": 49.99896307093212,\n        \"num_unique_values\": 50000,\n        \"samples\": [\n          28.429730817151565,\n          42.90909599550789,\n          11.35739010447715\n        ],\n        \"semantic_type\": \"\",\n        \"description\": \"\"\n      }\n    },\n    {\n      \"column\": \"Wind Power (kW)\",\n      \"properties\": {\n        \"dtype\": \"number\",\n        \"std\": 8.663070198887217,\n        \"min\": 6.681887121606778e-05,\n        \"max\": 29.99781533430497,\n        \"num_unique_values\": 50000,\n        \"samples\": [\n          20.96013518667637,\n          3.67766416799392,\n          3.078980084825801\n        ],\n        \"semantic_type\": \"\",\n        \"description\": \"\"\n      }\n    },\n    {\n      \"column\": \"Grid Supply (kW)\",\n      \"properties\": {\n        \"dtype\": \"number\",\n        \"std\": 0.46028131992170246,\n        \"min\": 0.0,\n        \"max\": 10.766046003831494,\n        \"num_unique_values\": 814,\n        \"samples\": [\n          4.442255821921773,\n          7.188740240376887,\n          0.2432567669883276\n        ],\n        \"semantic_type\": \"\",\n        \"description\": \"\"\n      }\n    },\n    {\n      \"column\": \"Voltage Fluctuation (%)\",\n      \"properties\": {\n        \"dtype\": \"number\",\n        \"std\": 2.8842189604680035,\n        \"min\": -4.999912912023533,\n        \"max\": 4.999946092561705,\n        \"num_unique_values\": 50000,\n        \"samples\": [\n          4.538971060607564,\n          -4.580673338841752,\n          -3.316861365478707\n        ],\n        \"semantic_type\": \"\",\n        \"description\": \"\"\n      }\n    },\n    {\n      \"column\": \"Overload Condition\",\n      \"properties\": {\n        \"dtype\": \"number\",\n        \"std\": 0,\n        \"min\": 0,\n        \"max\": 1,\n        \"num_unique_values\": 2,\n        \"samples\": [\n          1,\n          0\n        ],\n        \"semantic_type\": \"\",\n        \"description\": \"\"\n      }\n    },\n    {\n      \"column\": \"Transformer Fault\",\n      \"properties\": {\n        \"dtype\": \"number\",\n        \"std\": 0,\n        \"min\": 0,\n        \"max\": 1,\n        \"num_unique_values\": 2,\n        \"samples\": [\n          1,\n          0\n        ],\n        \"semantic_type\": \"\",\n        \"description\": \"\"\n      }\n    },\n    {\n      \"column\": \"Temperature (\\u00b0C)\",\n      \"properties\": {\n        \"dtype\": \"number\",\n        \"std\": 8.657091567169873,\n        \"min\": 10.000015565336996,\n        \"max\": 39.99994944582863,\n        \"num_unique_values\": 50000,\n        \"samples\": [\n          21.43233798092337,\n          32.70482932288228\n        ],\n        \"semantic_type\": \"\",\n        \"description\": \"\"\n      }\n    },\n    {\n      \"column\": \"Humidity (%)\",\n      \"properties\": {\n        \"dtype\": \"number\",\n        \"std\": 17.263387127731974,\n        \"min\": 20.00042286473867,\n        \"max\": 79.99792263634268,\n        \"num_unique_values\": 50000,\n        \"samples\": [\n          59.030668672372606,\n          34.215194035123794\n        ],\n        \"semantic_type\": \"\",\n        \"description\": \"\"\n      }\n    },\n    {\n      \"column\": \"Electricity Price (USD/kWh)\",\n      \"properties\": {\n        \"dtype\": \"number\",\n        \"std\": 0.11549508456966821,\n        \"min\": 0.1000020989674619,\n        \"max\": 0.4999957727741508,\n        \"num_unique_values\": 50000,\n        \"samples\": [\n          0.2437329574696522,\n          0.3932744649012399\n        ],\n        \"semantic_type\": \"\",\n        \"description\": \"\"\n      }\n    },\n    {\n      \"column\": \"Predicted Load (kW)\",\n      \"properties\": {\n        \"dtype\": \"number\",\n        \"std\": 2.997198591839098,\n        \"min\": 1.0434866836365604,\n        \"max\": 12.483253325324592,\n        \"num_unique_values\": 50000,\n        \"samples\": [\n          9.583325170136437,\n          7.023534347296732\n        ],\n        \"semantic_type\": \"\",\n        \"description\": \"\"\n      }\n    },\n    {\n      \"column\": \"hour\",\n      \"properties\": {\n        \"dtype\": \"int32\",\n        \"num_unique_values\": 24,\n        \"samples\": [\n          8,\n          16\n        ],\n        \"semantic_type\": \"\",\n        \"description\": \"\"\n      }\n    },\n    {\n      \"column\": \"dayofweek\",\n      \"properties\": {\n        \"dtype\": \"int32\",\n        \"num_unique_values\": 7,\n        \"samples\": [\n          0,\n          1\n        ],\n        \"semantic_type\": \"\",\n        \"description\": \"\"\n      }\n    }\n  ]\n}"
            }
          },
          "metadata": {},
          "execution_count": 11
        }
      ]
    },
    {
      "cell_type": "code",
      "source": [
        "features = ['Voltage (V)', 'Current (A)', 'hour', 'dayofweek']\n",
        "target = 'Power Consumption (kW)'  # You can change this to 'Predicted Load (kW)' if needed"
      ],
      "metadata": {
        "id": "YhU6esz0cdqO"
      },
      "execution_count": null,
      "outputs": []
    },
    {
      "cell_type": "code",
      "source": [
        "scaler_X = MinMaxScaler()\n",
        "scaler_y = MinMaxScaler()"
      ],
      "metadata": {
        "id": "JfJgYBrlc42v"
      },
      "execution_count": null,
      "outputs": []
    },
    {
      "cell_type": "code",
      "source": [
        "scaled_features = scaler_X.fit_transform(df[features])\n",
        "scaled_target = scaler_y.fit_transform(df[[target]])"
      ],
      "metadata": {
        "id": "MYNup_Epc8WP"
      },
      "execution_count": null,
      "outputs": []
    },
    {
      "cell_type": "code",
      "source": [
        "def create_sequences(X, y, time_steps=24):\n",
        "    Xs, ys = [], []\n",
        "    for i in range(time_steps, len(X)):\n",
        "        Xs.append(X[i-time_steps:i])\n",
        "        ys.append(y[i])\n",
        "    return np.array(Xs), np.array(ys)\n",
        "\n",
        "X_seq, y_seq = create_sequences(scaled_features, scaled_target)"
      ],
      "metadata": {
        "id": "_STfiw7Uc-0u"
      },
      "execution_count": null,
      "outputs": []
    },
    {
      "cell_type": "code",
      "source": [
        "print(\"X_seq shape:\", X_seq.shape)\n",
        "print(\"y_seq shape:\", y_seq.shape)"
      ],
      "metadata": {
        "colab": {
          "base_uri": "https://localhost:8080/"
        },
        "id": "A_yj_IwHdBqG",
        "outputId": "8d6010e5-b5a9-4d8f-e1ba-c9a5a3afd9ce"
      },
      "execution_count": null,
      "outputs": [
        {
          "output_type": "stream",
          "name": "stdout",
          "text": [
            "X_seq shape: (49976, 24, 4)\n",
            "y_seq shape: (49976, 1)\n"
          ]
        }
      ]
    },
    {
      "cell_type": "code",
      "source": [
        "split_index = int(len(X_seq) * 0.8)"
      ],
      "metadata": {
        "id": "WAk6UQ0-dErT"
      },
      "execution_count": null,
      "outputs": []
    },
    {
      "cell_type": "code",
      "source": [
        "X_train, X_test = X_seq[:split_index], X_seq[split_index:]\n",
        "y_train, y_test = y_seq[:split_index], y_seq[split_index:]"
      ],
      "metadata": {
        "id": "RDH5pkOqdMvM"
      },
      "execution_count": null,
      "outputs": []
    },
    {
      "cell_type": "code",
      "source": [
        "print(\"X_train shape:\", X_train.shape)\n",
        "print(\"X_test shape:\", X_test.shape)\n",
        "print(\"y_train shape:\", y_train.shape)\n",
        "print(\"y_test shape:\", y_test.shape)"
      ],
      "metadata": {
        "colab": {
          "base_uri": "https://localhost:8080/"
        },
        "id": "hVTZrPwudZjZ",
        "outputId": "e137b6e4-957b-4bf1-9c62-1bec5b1b33ad"
      },
      "execution_count": null,
      "outputs": [
        {
          "output_type": "stream",
          "name": "stdout",
          "text": [
            "X_train shape: (39980, 24, 4)\n",
            "X_test shape: (9996, 24, 4)\n",
            "y_train shape: (39980, 1)\n",
            "y_test shape: (9996, 1)\n"
          ]
        }
      ]
    },
    {
      "cell_type": "code",
      "source": [
        "#Build the LSTM model\n",
        "from tensorflow.keras.models import Sequential\n",
        "from tensorflow.keras.layers import LSTM, Dense, Dropout\n",
        "model = Sequential()\n",
        "\n",
        "#LSTM layer with dropout\n",
        "model.add(LSTM(units=64, return_sequences=False, input_shape=(X_train.shape[1], X_train.shape[2])))\n",
        "model.add(Dropout(0.2))\n",
        "model.add(Dense(1))"
      ],
      "metadata": {
        "id": "NqKLyQ71dcAN"
      },
      "execution_count": null,
      "outputs": []
    },
    {
      "cell_type": "code",
      "source": [
        "#Compile the model\n",
        "model.compile(optimizer='adam', loss='mean_squared_error')"
      ],
      "metadata": {
        "id": "F4-3reLaeBRe"
      },
      "execution_count": null,
      "outputs": []
    },
    {
      "cell_type": "code",
      "source": [
        "history = model.fit(\n",
        "    X_train, y_train,\n",
        "    epochs=50,                 # Start with 50, increase if needed\n",
        "    batch_size=32,\n",
        "    validation_data=(X_test, y_test),\n",
        "    verbose=1\n",
        ")"
      ],
      "metadata": {
        "colab": {
          "base_uri": "https://localhost:8080/"
        },
        "id": "04QEFCiueR3q",
        "outputId": "1c639d61-b565-4e48-db48-981a8c7c22df"
      },
      "execution_count": null,
      "outputs": [
        {
          "output_type": "stream",
          "name": "stdout",
          "text": [
            "Epoch 1/50\n",
            "\u001b[1m1250/1250\u001b[0m \u001b[32m━━━━━━━━━━━━━━━━━━━━\u001b[0m\u001b[37m\u001b[0m \u001b[1m10s\u001b[0m 6ms/step - loss: 0.0796 - val_loss: 0.0782\n",
            "Epoch 2/50\n",
            "\u001b[1m1250/1250\u001b[0m \u001b[32m━━━━━━━━━━━━━━━━━━━━\u001b[0m\u001b[37m\u001b[0m \u001b[1m9s\u001b[0m 6ms/step - loss: 0.0755 - val_loss: 0.0742\n",
            "Epoch 3/50\n",
            "\u001b[1m1250/1250\u001b[0m \u001b[32m━━━━━━━━━━━━━━━━━━━━\u001b[0m\u001b[37m\u001b[0m \u001b[1m10s\u001b[0m 6ms/step - loss: 0.0753 - val_loss: 0.0741\n",
            "Epoch 4/50\n",
            "\u001b[1m1250/1250\u001b[0m \u001b[32m━━━━━━━━━━━━━━━━━━━━\u001b[0m\u001b[37m\u001b[0m \u001b[1m10s\u001b[0m 6ms/step - loss: 0.0741 - val_loss: 0.0749\n",
            "Epoch 5/50\n",
            "\u001b[1m1250/1250\u001b[0m \u001b[32m━━━━━━━━━━━━━━━━━━━━\u001b[0m\u001b[37m\u001b[0m \u001b[1m10s\u001b[0m 6ms/step - loss: 0.0741 - val_loss: 0.0741\n",
            "Epoch 6/50\n",
            "\u001b[1m1250/1250\u001b[0m \u001b[32m━━━━━━━━━━━━━━━━━━━━\u001b[0m\u001b[37m\u001b[0m \u001b[1m10s\u001b[0m 5ms/step - loss: 0.0747 - val_loss: 0.0744\n",
            "Epoch 7/50\n",
            "\u001b[1m1250/1250\u001b[0m \u001b[32m━━━━━━━━━━━━━━━━━━━━\u001b[0m\u001b[37m\u001b[0m \u001b[1m10s\u001b[0m 5ms/step - loss: 0.0734 - val_loss: 0.0742\n",
            "Epoch 8/50\n",
            "\u001b[1m1250/1250\u001b[0m \u001b[32m━━━━━━━━━━━━━━━━━━━━\u001b[0m\u001b[37m\u001b[0m \u001b[1m10s\u001b[0m 5ms/step - loss: 0.0737 - val_loss: 0.0741\n",
            "Epoch 9/50\n",
            "\u001b[1m1250/1250\u001b[0m \u001b[32m━━━━━━━━━━━━━━━━━━━━\u001b[0m\u001b[37m\u001b[0m \u001b[1m11s\u001b[0m 6ms/step - loss: 0.0736 - val_loss: 0.0742\n",
            "Epoch 10/50\n",
            "\u001b[1m1250/1250\u001b[0m \u001b[32m━━━━━━━━━━━━━━━━━━━━\u001b[0m\u001b[37m\u001b[0m \u001b[1m10s\u001b[0m 6ms/step - loss: 0.0736 - val_loss: 0.0741\n",
            "Epoch 11/50\n",
            "\u001b[1m1250/1250\u001b[0m \u001b[32m━━━━━━━━━━━━━━━━━━━━\u001b[0m\u001b[37m\u001b[0m \u001b[1m6s\u001b[0m 5ms/step - loss: 0.0742 - val_loss: 0.0741\n",
            "Epoch 12/50\n",
            "\u001b[1m1250/1250\u001b[0m \u001b[32m━━━━━━━━━━━━━━━━━━━━\u001b[0m\u001b[37m\u001b[0m \u001b[1m8s\u001b[0m 6ms/step - loss: 0.0730 - val_loss: 0.0740\n",
            "Epoch 13/50\n",
            "\u001b[1m1250/1250\u001b[0m \u001b[32m━━━━━━━━━━━━━━━━━━━━\u001b[0m\u001b[37m\u001b[0m \u001b[1m10s\u001b[0m 6ms/step - loss: 0.0740 - val_loss: 0.0741\n",
            "Epoch 14/50\n",
            "\u001b[1m1250/1250\u001b[0m \u001b[32m━━━━━━━━━━━━━━━━━━━━\u001b[0m\u001b[37m\u001b[0m \u001b[1m10s\u001b[0m 6ms/step - loss: 0.0745 - val_loss: 0.0740\n",
            "Epoch 15/50\n",
            "\u001b[1m1250/1250\u001b[0m \u001b[32m━━━━━━━━━━━━━━━━━━━━\u001b[0m\u001b[37m\u001b[0m \u001b[1m7s\u001b[0m 6ms/step - loss: 0.0734 - val_loss: 0.0740\n",
            "Epoch 16/50\n",
            "\u001b[1m1250/1250\u001b[0m \u001b[32m━━━━━━━━━━━━━━━━━━━━\u001b[0m\u001b[37m\u001b[0m \u001b[1m10s\u001b[0m 6ms/step - loss: 0.0742 - val_loss: 0.0740\n",
            "Epoch 17/50\n",
            "\u001b[1m1250/1250\u001b[0m \u001b[32m━━━━━━━━━━━━━━━━━━━━\u001b[0m\u001b[37m\u001b[0m \u001b[1m11s\u001b[0m 6ms/step - loss: 0.0735 - val_loss: 0.0740\n",
            "Epoch 18/50\n",
            "\u001b[1m1250/1250\u001b[0m \u001b[32m━━━━━━━━━━━━━━━━━━━━\u001b[0m\u001b[37m\u001b[0m \u001b[1m10s\u001b[0m 6ms/step - loss: 0.0735 - val_loss: 0.0741\n",
            "Epoch 19/50\n",
            "\u001b[1m1250/1250\u001b[0m \u001b[32m━━━━━━━━━━━━━━━━━━━━\u001b[0m\u001b[37m\u001b[0m \u001b[1m7s\u001b[0m 5ms/step - loss: 0.0733 - val_loss: 0.0742\n",
            "Epoch 20/50\n",
            "\u001b[1m1250/1250\u001b[0m \u001b[32m━━━━━━━━━━━━━━━━━━━━\u001b[0m\u001b[37m\u001b[0m \u001b[1m7s\u001b[0m 6ms/step - loss: 0.0736 - val_loss: 0.0740\n",
            "Epoch 21/50\n",
            "\u001b[1m1250/1250\u001b[0m \u001b[32m━━━━━━━━━━━━━━━━━━━━\u001b[0m\u001b[37m\u001b[0m \u001b[1m7s\u001b[0m 6ms/step - loss: 0.0731 - val_loss: 0.0742\n",
            "Epoch 22/50\n",
            "\u001b[1m1250/1250\u001b[0m \u001b[32m━━━━━━━━━━━━━━━━━━━━\u001b[0m\u001b[37m\u001b[0m \u001b[1m7s\u001b[0m 6ms/step - loss: 0.0740 - val_loss: 0.0740\n",
            "Epoch 23/50\n",
            "\u001b[1m1250/1250\u001b[0m \u001b[32m━━━━━━━━━━━━━━━━━━━━\u001b[0m\u001b[37m\u001b[0m \u001b[1m11s\u001b[0m 6ms/step - loss: 0.0732 - val_loss: 0.0740\n",
            "Epoch 24/50\n",
            "\u001b[1m1250/1250\u001b[0m \u001b[32m━━━━━━━━━━━━━━━━━━━━\u001b[0m\u001b[37m\u001b[0m \u001b[1m10s\u001b[0m 6ms/step - loss: 0.0737 - val_loss: 0.0741\n",
            "Epoch 25/50\n",
            "\u001b[1m1250/1250\u001b[0m \u001b[32m━━━━━━━━━━━━━━━━━━━━\u001b[0m\u001b[37m\u001b[0m \u001b[1m10s\u001b[0m 6ms/step - loss: 0.0734 - val_loss: 0.0742\n",
            "Epoch 26/50\n",
            "\u001b[1m1250/1250\u001b[0m \u001b[32m━━━━━━━━━━━━━━━━━━━━\u001b[0m\u001b[37m\u001b[0m \u001b[1m10s\u001b[0m 6ms/step - loss: 0.0741 - val_loss: 0.0741\n",
            "Epoch 27/50\n",
            "\u001b[1m1250/1250\u001b[0m \u001b[32m━━━━━━━━━━━━━━━━━━━━\u001b[0m\u001b[37m\u001b[0m \u001b[1m10s\u001b[0m 6ms/step - loss: 0.0736 - val_loss: 0.0741\n",
            "Epoch 28/50\n",
            "\u001b[1m1250/1250\u001b[0m \u001b[32m━━━━━━━━━━━━━━━━━━━━\u001b[0m\u001b[37m\u001b[0m \u001b[1m10s\u001b[0m 5ms/step - loss: 0.0736 - val_loss: 0.0742\n",
            "Epoch 29/50\n",
            "\u001b[1m1250/1250\u001b[0m \u001b[32m━━━━━━━━━━━━━━━━━━━━\u001b[0m\u001b[37m\u001b[0m \u001b[1m8s\u001b[0m 6ms/step - loss: 0.0738 - val_loss: 0.0741\n",
            "Epoch 30/50\n",
            "\u001b[1m1250/1250\u001b[0m \u001b[32m━━━━━━━━━━━━━━━━━━━━\u001b[0m\u001b[37m\u001b[0m \u001b[1m10s\u001b[0m 6ms/step - loss: 0.0735 - val_loss: 0.0741\n",
            "Epoch 31/50\n",
            "\u001b[1m1250/1250\u001b[0m \u001b[32m━━━━━━━━━━━━━━━━━━━━\u001b[0m\u001b[37m\u001b[0m \u001b[1m7s\u001b[0m 5ms/step - loss: 0.0738 - val_loss: 0.0740\n",
            "Epoch 32/50\n",
            "\u001b[1m1250/1250\u001b[0m \u001b[32m━━━━━━━━━━━━━━━━━━━━\u001b[0m\u001b[37m\u001b[0m \u001b[1m7s\u001b[0m 6ms/step - loss: 0.0739 - val_loss: 0.0742\n",
            "Epoch 33/50\n",
            "\u001b[1m1250/1250\u001b[0m \u001b[32m━━━━━━━━━━━━━━━━━━━━\u001b[0m\u001b[37m\u001b[0m \u001b[1m7s\u001b[0m 5ms/step - loss: 0.0737 - val_loss: 0.0742\n",
            "Epoch 34/50\n",
            "\u001b[1m1250/1250\u001b[0m \u001b[32m━━━━━━━━━━━━━━━━━━━━\u001b[0m\u001b[37m\u001b[0m \u001b[1m8s\u001b[0m 6ms/step - loss: 0.0739 - val_loss: 0.0740\n",
            "Epoch 35/50\n",
            "\u001b[1m1250/1250\u001b[0m \u001b[32m━━━━━━━━━━━━━━━━━━━━\u001b[0m\u001b[37m\u001b[0m \u001b[1m10s\u001b[0m 6ms/step - loss: 0.0736 - val_loss: 0.0741\n",
            "Epoch 36/50\n",
            "\u001b[1m1250/1250\u001b[0m \u001b[32m━━━━━━━━━━━━━━━━━━━━\u001b[0m\u001b[37m\u001b[0m \u001b[1m7s\u001b[0m 6ms/step - loss: 0.0730 - val_loss: 0.0741\n",
            "Epoch 37/50\n",
            "\u001b[1m1250/1250\u001b[0m \u001b[32m━━━━━━━━━━━━━━━━━━━━\u001b[0m\u001b[37m\u001b[0m \u001b[1m7s\u001b[0m 6ms/step - loss: 0.0730 - val_loss: 0.0740\n",
            "Epoch 38/50\n",
            "\u001b[1m1250/1250\u001b[0m \u001b[32m━━━━━━━━━━━━━━━━━━━━\u001b[0m\u001b[37m\u001b[0m \u001b[1m8s\u001b[0m 6ms/step - loss: 0.0737 - val_loss: 0.0740\n",
            "Epoch 39/50\n",
            "\u001b[1m1250/1250\u001b[0m \u001b[32m━━━━━━━━━━━━━━━━━━━━\u001b[0m\u001b[37m\u001b[0m \u001b[1m10s\u001b[0m 6ms/step - loss: 0.0738 - val_loss: 0.0741\n",
            "Epoch 40/50\n",
            "\u001b[1m1250/1250\u001b[0m \u001b[32m━━━━━━━━━━━━━━━━━━━━\u001b[0m\u001b[37m\u001b[0m \u001b[1m7s\u001b[0m 5ms/step - loss: 0.0728 - val_loss: 0.0741\n",
            "Epoch 41/50\n",
            "\u001b[1m1250/1250\u001b[0m \u001b[32m━━━━━━━━━━━━━━━━━━━━\u001b[0m\u001b[37m\u001b[0m \u001b[1m8s\u001b[0m 6ms/step - loss: 0.0732 - val_loss: 0.0741\n",
            "Epoch 42/50\n",
            "\u001b[1m1250/1250\u001b[0m \u001b[32m━━━━━━━━━━━━━━━━━━━━\u001b[0m\u001b[37m\u001b[0m \u001b[1m10s\u001b[0m 6ms/step - loss: 0.0736 - val_loss: 0.0741\n",
            "Epoch 43/50\n",
            "\u001b[1m1250/1250\u001b[0m \u001b[32m━━━━━━━━━━━━━━━━━━━━\u001b[0m\u001b[37m\u001b[0m \u001b[1m10s\u001b[0m 5ms/step - loss: 0.0732 - val_loss: 0.0740\n",
            "Epoch 44/50\n",
            "\u001b[1m1250/1250\u001b[0m \u001b[32m━━━━━━━━━━━━━━━━━━━━\u001b[0m\u001b[37m\u001b[0m \u001b[1m10s\u001b[0m 5ms/step - loss: 0.0735 - val_loss: 0.0740\n",
            "Epoch 45/50\n",
            "\u001b[1m1250/1250\u001b[0m \u001b[32m━━━━━━━━━━━━━━━━━━━━\u001b[0m\u001b[37m\u001b[0m \u001b[1m7s\u001b[0m 6ms/step - loss: 0.0740 - val_loss: 0.0741\n",
            "Epoch 46/50\n",
            "\u001b[1m1250/1250\u001b[0m \u001b[32m━━━━━━━━━━━━━━━━━━━━\u001b[0m\u001b[37m\u001b[0m \u001b[1m7s\u001b[0m 5ms/step - loss: 0.0732 - val_loss: 0.0742\n",
            "Epoch 47/50\n",
            "\u001b[1m1250/1250\u001b[0m \u001b[32m━━━━━━━━━━━━━━━━━━━━\u001b[0m\u001b[37m\u001b[0m \u001b[1m8s\u001b[0m 6ms/step - loss: 0.0732 - val_loss: 0.0741\n",
            "Epoch 48/50\n",
            "\u001b[1m1250/1250\u001b[0m \u001b[32m━━━━━━━━━━━━━━━━━━━━\u001b[0m\u001b[37m\u001b[0m \u001b[1m10s\u001b[0m 6ms/step - loss: 0.0735 - val_loss: 0.0741\n",
            "Epoch 49/50\n",
            "\u001b[1m1250/1250\u001b[0m \u001b[32m━━━━━━━━━━━━━━━━━━━━\u001b[0m\u001b[37m\u001b[0m \u001b[1m10s\u001b[0m 6ms/step - loss: 0.0735 - val_loss: 0.0741\n",
            "Epoch 50/50\n",
            "\u001b[1m1250/1250\u001b[0m \u001b[32m━━━━━━━━━━━━━━━━━━━━\u001b[0m\u001b[37m\u001b[0m \u001b[1m7s\u001b[0m 5ms/step - loss: 0.0738 - val_loss: 0.0741\n"
          ]
        }
      ]
    },
    {
      "cell_type": "code",
      "source": [
        "plt.figure(figsize=(8, 5))\n",
        "plt.plot(history.history['loss'], label='Training Loss')\n",
        "plt.plot(history.history['val_loss'], label='Validation Loss')\n",
        "plt.title('Model Training Performance')\n",
        "plt.xlabel('Epoch')\n",
        "plt.ylabel('Loss')\n",
        "plt.legend()\n",
        "plt.grid(True)\n",
        "plt.show()"
      ],
      "metadata": {
        "colab": {
          "base_uri": "https://localhost:8080/",
          "height": 487
        },
        "id": "jcV5M6_se7dp",
        "outputId": "e78d698a-b81a-4630-9e1c-a78896c4d247"
      },
      "execution_count": null,
      "outputs": [
        {
          "output_type": "display_data",
          "data": {
            "text/plain": [
              "<Figure size 800x500 with 1 Axes>"
            ],
            "image/png": "[encoded data removed]"
          },
          "metadata": {}
        }
      ]
    },
    {
      "cell_type": "code",
      "source": [],
      "metadata": {
        "id": "6GijBx4lqCAq"
      },
      "execution_count": null,
      "outputs": []
    }
  ]
}